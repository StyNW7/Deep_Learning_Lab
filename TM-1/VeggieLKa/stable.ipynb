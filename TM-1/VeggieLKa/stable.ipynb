{
 "cells": [
  {
   "cell_type": "markdown",
   "id": "b5afd017",
   "metadata": {},
   "source": [
    "# Import Library"
   ]
  },
  {
   "cell_type": "code",
   "execution_count": null,
   "id": "42b30db0",
   "metadata": {},
   "outputs": [],
   "source": [
    "import tensorflow as tf\n",
    "import keras\n",
    "import numpy as np\n",
    "from sklearn.model_selection import train_test_split\n",
    "import os\n",
    "import matplotlib.pyplot as plt"
   ]
  },
  {
   "cell_type": "markdown",
   "id": "de382e81",
   "metadata": {},
   "source": [
    "# Load Dataset"
   ]
  },
  {
   "cell_type": "code",
   "execution_count": null,
   "id": "a666042e",
   "metadata": {},
   "outputs": [],
   "source": [
    "img_rows, img_cols = 224, 224\n",
    "\n",
    "data_path = \"./Dataset/\"\n",
    "\n",
    "x, y = [], []\n",
    "\n",
    "counter = 0\n",
    "\n",
    "classes = os.listdir(data_path)\n",
    "\n",
    "for class_path in classes:\n",
    "    for img_path in os.listdir (f\"{data_path}{class_path}\"):\n",
    "        \n",
    "        path = f\"{data_path}{class_path}/{img_path}\"\n",
    "        label = counter\n",
    "        image = tf.keras.preprocessing.image.load_img(path, target_size=(img_rows, img_cols), color_mode=\"grayscale\")\n",
    "        image = tf.keras.preprocessing.image.img_to_array(image)\n",
    "        \n",
    "        x.append(image)\n",
    "        y.append(label)\n",
    "        \n",
    "    counter += 1\n",
    "    \n",
    "x=np.array(x)\n",
    "y=np.array(y)"
   ]
  },
  {
   "cell_type": "code",
   "execution_count": null,
   "id": "9f486cd6",
   "metadata": {},
   "outputs": [],
   "source": [
    "# normalisasi\n",
    "x = x.astype(\"float32\") / 255.0\n",
    "\n",
    "# split 80:10:10\n",
    "X_train, X_temp, y_train, y_temp = train_test_split(x, y, test_size=0.2, random_state=42)\n",
    "X_val, X_test, y_val, y_test = train_test_split(X_temp, y_temp, test_size=0.5, random_state=42)\n",
    "\n",
    "# one hot encoding\n",
    "y_train = keras.utils.to_categorical(y_train, num_classes=4)\n",
    "y_val = keras.utils.to_categorical(y_val, num_classes=4)\n",
    "y_test = keras.utils.to_categorical(y_test, num_classes=4)"
   ]
  },
  {
   "cell_type": "markdown",
   "id": "920d508b",
   "metadata": {},
   "source": [
    "# Modelling"
   ]
  },
  {
   "cell_type": "code",
   "execution_count": null,
   "id": "74626b37",
   "metadata": {},
   "outputs": [],
   "source": [
    "#model\n",
    "model = keras.Sequential()\n",
    "model.add(keras.layers.Conv2D(6, (5,5), activation=\"relu\", input_shape=(img_rows, img_cols, 1)))\n",
    "#shape 1 krn gray scale, sesuaiin sama warna gambar\n",
    "model.add(keras.layers.MaxPooling2D(pool_size=(2,2), strides=2))\n",
    "model.add(keras.layers.Conv2D(16, (5, 5), activation=\"relu\"))\n",
    "model.add(keras.layers.Conv2D(16, (5,5), activation=\"relu\"))\n",
    "model.add(keras.layers.MaxPooling2D(pool_size=(2,2), strides=2))\n",
    "model.add(keras.layers.Flatten())\n",
    "model.add(keras.layers.Dense(120, activation='relu'))\n",
    "model.add(keras.layers.Dense(4, activation='softmax')) #sesuaiin dgn jumlah class kalian\n",
    "model.summary()"
   ]
  },
  {
   "cell_type": "code",
   "execution_count": null,
   "id": "4b364a9b",
   "metadata": {},
   "outputs": [],
   "source": [
    "from tensorflow.keras.utils import plot_model\n",
    "\n",
    "plot_model(model, to_file='model.png', show_shapes=True, show_layer_names=True)"
   ]
  },
  {
   "cell_type": "markdown",
   "id": "0b31e518",
   "metadata": {},
   "source": [
    "# Training Modelling"
   ]
  },
  {
   "cell_type": "code",
   "execution_count": null,
   "id": "5c3c3dc0",
   "metadata": {},
   "outputs": [],
   "source": [
    "model.compile(optimizer=\"adam\", loss=\"categorical_crossentropy\", metrics=['accuracy'])\n",
    "history=model.fit(X_train, y_train, batch_size=120, validation_data=(X_val, y_val), epochs=10)"
   ]
  },
  {
   "cell_type": "markdown",
   "id": "8385cccd",
   "metadata": {},
   "source": [
    "# Evaluate"
   ]
  },
  {
   "cell_type": "code",
   "execution_count": null,
   "id": "74e4a2b5",
   "metadata": {},
   "outputs": [],
   "source": [
    "score = model.evaluate(X_test, y_test)\n",
    "print(f\"test loss: {score[0]}\")\n",
    "print(f\"test accuracy: {score[1]}\")"
   ]
  },
  {
   "cell_type": "markdown",
   "id": "8d2b7f4f",
   "metadata": {},
   "source": [
    "# Predict"
   ]
  },
  {
   "cell_type": "code",
   "execution_count": null,
   "id": "b463b7a9",
   "metadata": {},
   "outputs": [],
   "source": [
    "predictions = model.predict(X_test)\n",
    "true_labels = np.argmax(y_test, axis=1)\n",
    "predict_label = np.argmax(predictions, axis=1)\n",
    "\n",
    "for i in range(9):\n",
    "    plt.subplot(3, 3, i+1)\n",
    "    plt.imshow(X_test[i], cmap='gray')\n",
    "    plt.axis('off')\n",
    "    plt.text(0.5, -0.15, f\"Pred: {classes[predict_label[i]]}\", transform=plt.gca().transAxes)\n",
    "    plt.text(0.5, -0.3, f\"True: {classes[true_labels[i]]}\", transform=plt.gca().transAxes)\n",
    "    \n",
    "plt.tight_layout() #biar textnya yg true ga nutup foto dibawahnya\n",
    "plt.show()"
   ]
  },
  {
   "cell_type": "markdown",
   "id": "930121f0",
   "metadata": {},
   "source": [
    "# Plotting"
   ]
  },
  {
   "cell_type": "code",
   "execution_count": null,
   "id": "6f35de33",
   "metadata": {},
   "outputs": [],
   "source": [
    "plt.figure(figsize=(10,6))\n",
    "\n",
    "plt.subplot(1,2,1)\n",
    "plt.plot(history.history['accuracy'], label=\"Training Accuracy\")\n",
    "plt.plot(history.history['val_accuracy'], label=\"Validation Accuracy\")\n",
    "\n",
    "plt.xlabel(\"Number of Epochs\")\n",
    "plt.ylabel(\"Accuracy [%]\")\n",
    "plt.title(\"Accuracy\")\n",
    "\n",
    "plt.legend()\n",
    "\n",
    "plt.subplot(1,2,2)\n",
    "plt.plot(history.history['loss'], label=\"Training Loss\")\n",
    "plt.plot(history.history['val_loss'], label=\"Validation Loss\")\n",
    "\n",
    "plt.xlabel(\"Number of Epochs\")\n",
    "plt.ylabel(\"Loss [%]\")\n",
    "plt.title(\"Loss\")\n",
    "\n",
    "plt.legend()"
   ]
  }
 ],
 "metadata": {
  "kernelspec": {
   "display_name": "deeplearning-env",
   "language": "python",
   "name": "python3"
  },
  "language_info": {
   "codemirror_mode": {
    "name": "ipython",
    "version": 3
   },
   "file_extension": ".py",
   "mimetype": "text/x-python",
   "name": "python",
   "nbconvert_exporter": "python",
   "pygments_lexer": "ipython3",
   "version": "3.10.6"
  }
 },
 "nbformat": 4,
 "nbformat_minor": 5
}
